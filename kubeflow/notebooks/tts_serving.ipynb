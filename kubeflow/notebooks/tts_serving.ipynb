{
 "cells": [
  {
   "cell_type": "code",
   "execution_count": 208,
   "id": "52c40293-e89b-4c64-958b-5333b2b51a75",
   "metadata": {},
   "outputs": [],
   "source": [
    "import kfp\n",
    "from kfp import dsl\n",
    "from kfp.components import (\n",
    "    InputPath,\n",
    "    InputTextFile,\n",
    "    OutputPath,\n",
    "    OutputTextFile,\n",
    "    func_to_container_op,\n",
    ")\n",
    "\n",
    "import pandas as pd\n",
    "from typing import NamedTuple\n",
    "\n",
    "import sys\n",
    "\n",
    "sys.path.insert(0, \"..\")\n",
    "from constants import NAMESPACE, HOST\n",
    "from utils import get_session_cookie, get_or_create_experiment, get_or_create_pipeline"
   ]
  },
  {
   "cell_type": "code",
   "execution_count": 209,
   "id": "8c9a8376-9414-47d5-ad55-8fbc36af88da",
   "metadata": {},
   "outputs": [],
   "source": [
    "# Where all the runs belong to the pipeline reside in\n",
    "EXPERIMENT_NAME = \"tts-serving\""
   ]
  },
  {
   "cell_type": "markdown",
   "id": "d3e723de-8cb4-4ee2-9141-1bd707923694",
   "metadata": {},
   "source": [
    "# Define pipeline components"
   ]
  },
  {
   "cell_type": "code",
   "execution_count": 210,
   "id": "998ea0af-811b-46c4-aa68-0a53d2fcfff0",
   "metadata": {},
   "outputs": [],
   "source": [
    "# The first component to download data, train-test split\n",
    "# and then dump all the data for downstream components to use\n",
    "def load_data(\n",
    "    data_url: str,\n",
    "    data_serving_path: OutputPath(\"PKL\"),\n",
    "):\n",
    "    import wget\n",
    "    import joblib\n",
    "    \n",
    "    # Download sentences.txt to local\n",
    "    wget.download(data_url)\n",
    "\n",
    "    # Load data file\n",
    "    with open(\"sentences.txt\", \"r\") as f:\n",
    "        sentences = f.readlines()\n",
    "    \n",
    "    sentences = [sentence.strip() for sentence in sentences]\n",
    "\n",
    "    # Dump data to pkl for downstream components to use\n",
    "    joblib.dump(sentences, data_serving_path)\n",
    "    \n",
    "    print(sentences)\n",
    "# Instead of using create_component_from_func,\n",
    "# you can use this instead\n",
    "load_data_op = func_to_container_op(\n",
    "    func=load_data,\n",
    "    packages_to_install=[\n",
    "        \"joblib==1.1.0\",\n",
    "        \"wget==3.2\"\n",
    "    ],\n",
    ")"
   ]
  },
  {
   "cell_type": "code",
   "execution_count": 211,
   "id": "d8ad3537-2f61-4fd0-ac82-10591e2505f8",
   "metadata": {},
   "outputs": [],
   "source": [
    "def serving(\n",
    "    data_serving_path: InputPath(\"PKL\"),\n",
    "):\n",
    "    import joblib\n",
    "    import requests\n",
    "    \n",
    "    headers = {\n",
    "    \"Content-Type\": \"application/json\"}\n",
    "\n",
    "    # Define our data for prediction\n",
    "    sentences = joblib.load(data_serving_path)\n",
    "    for sentence in sentences:\n",
    "        json_data = {\"Text\": sentences[0]}\n",
    "        response = requests.post('http://tts.kserve-deployment.34.170.87.225.sslip.io/predict', json=json_data)\n",
    "        status = requests.post('https://f189-27-77-246-74.ngrok-free.app/process', json=response.json(), headers=headers)\n",
    "        print(status)\n",
    "    \n",
    "kserve_op = func_to_container_op(\n",
    "    func=serving,\n",
    "    packages_to_install=[\n",
    "        \"joblib==1.1.0\",\n",
    "        \"requests==2.31.0\",\n",
    "    ],\n",
    ")"
   ]
  },
  {
   "cell_type": "markdown",
   "id": "c80f9b78-d1b5-4f24-a121-886aae6c7c00",
   "metadata": {},
   "source": [
    "# Define some pipelines"
   ]
  },
  {
   "cell_type": "code",
   "execution_count": 212,
   "id": "34d5eafe-739f-4eb5-b91a-5ae7760de2dc",
   "metadata": {},
   "outputs": [],
   "source": [
    "@dsl.pipeline(\n",
    "    name=\"text to speech serving\", description=\"send requests to tts models and get response audio.\"\n",
    ")\n",
    "def tts_serving_pipeline(data_url):\n",
    "    # A sample pipeline showing how to pass data (small) between components.\n",
    "    load_data_task = load_data_op(data_url=data_url)\n",
    "    kserve_task = kserve_op(\n",
    "        data_serving = load_data_task.outputs[\"data_serving\"]\n",
    "    )\n",
    "    "
   ]
  },
  {
   "cell_type": "markdown",
   "id": "e5429a52-7106-442b-9d1c-f46f44f36dec",
   "metadata": {},
   "source": [
    "# Run the pipelines"
   ]
  },
  {
   "cell_type": "code",
   "execution_count": 213,
   "id": "a4b547e1-d3e7-4455-bcae-b80be45bb9af",
   "metadata": {},
   "outputs": [],
   "source": [
    "# Get the token to authenticate to the `ml-pipeline` service\n",
    "session_cookie = get_session_cookie()\n",
    "\n",
    "# Initialize the client\n",
    "client = kfp.Client(\n",
    "    host=f\"{HOST}/pipeline\",\n",
    "    cookies=f\"authservice_session={session_cookie}\",\n",
    "    namespace=NAMESPACE,\n",
    ")"
   ]
  },
  {
   "cell_type": "code",
   "execution_count": 214,
   "id": "115dcb6f-614a-49c0-b524-7bb5af89b038",
   "metadata": {},
   "outputs": [
    {
     "data": {
      "text/html": [
       "<a href=\"http://10.10.10.10:8080/pipeline/#/experiments/details/9b9b493c-8727-418a-9df7-5d4d60f46870\" target=\"_blank\" >Experiment details</a>."
      ],
      "text/plain": [
       "<IPython.core.display.HTML object>"
      ]
     },
     "metadata": {},
     "output_type": "display_data"
    },
    {
     "data": {
      "text/html": [
       "<a href=\"http://10.10.10.10:8080/pipeline/#/runs/details/a5af680c-11b5-40dd-a302-c017a4c33ca6\" target=\"_blank\" >Run details</a>."
      ],
      "text/plain": [
       "<IPython.core.display.HTML object>"
      ]
     },
     "metadata": {},
     "output_type": "display_data"
    },
    {
     "data": {
      "text/plain": [
       "RunPipelineResult(run_id=a5af680c-11b5-40dd-a302-c017a4c33ca6)"
      ]
     },
     "execution_count": 214,
     "metadata": {},
     "output_type": "execute_result"
    }
   ],
   "source": [
    "client.create_run_from_pipeline_func(\n",
    "    tts_serving_pipeline,\n",
    "    arguments={\n",
    "        \"data_url\": \"https://raw.githubusercontent.com/dunghoang369/test/main/sentences.txt\"\n",
    "    },\n",
    "    experiment_name=EXPERIMENT_NAME,\n",
    "    namespace=NAMESPACE,\n",
    ")"
   ]
  },
  {
   "cell_type": "markdown",
   "id": "7a9f8126-967a-414c-b814-4a6adb827f47",
   "metadata": {},
   "source": [
    "# Compile the pipelines"
   ]
  },
  {
   "cell_type": "code",
   "execution_count": 217,
   "id": "7c8bfd06-09ba-4d30-9565-7fb1b0e68e6b",
   "metadata": {},
   "outputs": [],
   "source": [
    "# Define the compiled pipeline version, each time\n",
    "# you change the pipeline, change the version also\n",
    "PIPELINE_VERSION = \"0.0.1\"\n",
    "PIPELINE_NAME = \"tts_serving_pipeline\"\n",
    "PIPELINE_DESCRIPTION = \"A pipeline to serve text to speech service\"\n",
    "\n",
    "# Define the name of the compiled pipeline\n",
    "pipeline_package_path = (\n",
    "    f\"../compiled_pipelines/{PIPELINE_NAME}_{PIPELINE_VERSION}.yaml\"\n",
    ")\n",
    "\n",
    "# Compile the pipeline into a YAML file, you will see it\n",
    "# is an Argo Workflow object\n",
    "kfp.compiler.Compiler().compile(\n",
    "    pipeline_func=tts_serving_pipeline,\n",
    "    package_path=pipeline_package_path,\n",
    ")"
   ]
  },
  {
   "cell_type": "markdown",
   "id": "f48298f4-acaa-49ff-8122-8eb8da609a54",
   "metadata": {},
   "source": [
    "# Run the pre-compiled pipelines"
   ]
  },
  {
   "cell_type": "code",
   "execution_count": 219,
   "id": "44b65cf4-d0c0-4ac3-b264-338e04217820",
   "metadata": {},
   "outputs": [
    {
     "data": {
      "text/html": [
       "<a href=http://10.10.10.10:8080/pipeline/#/pipelines/details/2d97628b-6d86-436d-b341-bc5b4b1d5e74>Pipeline details</a>."
      ],
      "text/plain": [
       "<IPython.core.display.HTML object>"
      ]
     },
     "metadata": {},
     "output_type": "display_data"
    }
   ],
   "source": [
    "# Get the existing experiment or create a new one if not exist\n",
    "experiment = get_or_create_experiment(client, name=EXPERIMENT_NAME, namespace=NAMESPACE)\n",
    "\n",
    "# Get or create a pipeline to save all runs if not exist\n",
    "pipeline = get_or_create_pipeline(\n",
    "    client,\n",
    "    pipeline_name=PIPELINE_NAME,\n",
    "    pipeline_package_path=pipeline_package_path,\n",
    "    version=PIPELINE_VERSION,\n",
    "    pipeline_description=PIPELINE_DESCRIPTION,\n",
    ")"
   ]
  },
  {
   "cell_type": "code",
   "execution_count": 220,
   "id": "2b33b714-fb95-4d35-bab1-725e0230a149",
   "metadata": {},
   "outputs": [
    {
     "data": {
      "text/html": [
       "<a href=\"http://10.10.10.10:8080/pipeline/#/runs/details/6d9cc945-77e6-474d-9ec6-51ef8df64beb\" target=\"_blank\" >Run details</a>."
      ],
      "text/plain": [
       "<IPython.core.display.HTML object>"
      ]
     },
     "metadata": {},
     "output_type": "display_data"
    },
    {
     "data": {
      "text/plain": [
       "{'created_at': datetime.datetime(2024, 3, 29, 8, 51, 52, tzinfo=tzutc()),\n",
       " 'description': None,\n",
       " 'error': None,\n",
       " 'finished_at': datetime.datetime(1970, 1, 1, 0, 0, tzinfo=tzutc()),\n",
       " 'id': '6d9cc945-77e6-474d-9ec6-51ef8df64beb',\n",
       " 'metrics': None,\n",
       " 'name': 'tts_serving_pipeline-0.0.1-20240329155154',\n",
       " 'pipeline_spec': {'parameters': [{'name': 'data_url',\n",
       "                                   'value': 'https://raw.githubusercontent.com/dunghoang369/test/main/sentences.txt'}],\n",
       "                   'pipeline_id': None,\n",
       "                   'pipeline_manifest': None,\n",
       "                   'pipeline_name': None,\n",
       "                   'runtime_config': None,\n",
       "                   'workflow_manifest': '{\"kind\":\"Workflow\",\"apiVersion\":\"argoproj.io/v1alpha1\",\"metadata\":{\"generateName\":\"text-to-speech-serving-\",\"creationTimestamp\":null,\"labels\":{\"pipelines.kubeflow.org/kfp_sdk_version\":\"1.8.3\"},\"annotations\":{\"pipelines.kubeflow.org/kfp_sdk_version\":\"1.8.3\",\"pipelines.kubeflow.org/pipeline_compilation_time\":\"2024-03-29T15:49:06.189911\",\"pipelines.kubeflow.org/pipeline_spec\":\"{\\\\\"description\\\\\": '\n",
       "                                        '\\\\\"send requests to tts models and '\n",
       "                                        'get response audio.\\\\\", \\\\\"inputs\\\\\": '\n",
       "                                        '[{\\\\\"name\\\\\": \\\\\"data_url\\\\\"}], '\n",
       "                                        '\\\\\"name\\\\\": \\\\\"text to speech '\n",
       "                                        'serving\\\\\"}\"}},\"spec\":{\"templates\":[{\"name\":\"load-data\",\"arguments\":{},\"inputs\":{\"parameters\":[{\"name\":\"data_url\"}]},\"outputs\":{\"artifacts\":[{\"name\":\"load-data-data_serving\",\"path\":\"/tmp/outputs/data_serving/data\"}]},\"metadata\":{\"annotations\":{\"pipelines.kubeflow.org/arguments.parameters\":\"{\\\\\"data_url\\\\\": '\n",
       "                                        '\\\\\"{{inputs.parameters.data_url}}\\\\\"}\",\"pipelines.kubeflow.org/component_ref\":\"{}\",\"pipelines.kubeflow.org/component_spec\":\"{\\\\\"implementation\\\\\": '\n",
       "                                        '{\\\\\"container\\\\\": {\\\\\"args\\\\\": '\n",
       "                                        '[\\\\\"--data-url\\\\\", {\\\\\"inputValue\\\\\": '\n",
       "                                        '\\\\\"data_url\\\\\"}, '\n",
       "                                        '\\\\\"--data-serving\\\\\", '\n",
       "                                        '{\\\\\"outputPath\\\\\": '\n",
       "                                        '\\\\\"data_serving\\\\\"}], \\\\\"command\\\\\": '\n",
       "                                        '[\\\\\"sh\\\\\", \\\\\"-c\\\\\", '\n",
       "                                        '\\\\\"(PIP_DISABLE_PIP_VERSION_CHECK=1 '\n",
       "                                        'python3 -m pip install --quiet '\n",
       "                                        '--no-warn-script-location '\n",
       "                                        \"'joblib==1.1.0' 'wget==3.2' || \"\n",
       "                                        'PIP_DISABLE_PIP_VERSION_CHECK=1 '\n",
       "                                        'python3 -m pip install --quiet '\n",
       "                                        '--no-warn-script-location '\n",
       "                                        \"'joblib==1.1.0' 'wget==3.2' --user) \"\n",
       "                                        '\\\\u0026\\\\u0026 \\\\\\\\\\\\\"$0\\\\\\\\\\\\\" '\n",
       "                                        '\\\\\\\\\\\\\"$@\\\\\\\\\\\\\"\\\\\", \\\\\"sh\\\\\", '\n",
       "                                        '\\\\\"-ec\\\\\", '\n",
       "                                        '\\\\\"program_path=$(mktemp)\\\\\\\\nprintf '\n",
       "                                        '\\\\\\\\\\\\\"%s\\\\\\\\\\\\\" \\\\\\\\\\\\\"$0\\\\\\\\\\\\\" '\n",
       "                                        '\\\\u003e '\n",
       "                                        '\\\\\\\\\\\\\"$program_path\\\\\\\\\\\\\"\\\\\\\\npython3 '\n",
       "                                        '-u \\\\\\\\\\\\\"$program_path\\\\\\\\\\\\\" '\n",
       "                                        '\\\\\\\\\\\\\"$@\\\\\\\\\\\\\"\\\\\\\\n\\\\\", \\\\\"def '\n",
       "                                        '_make_parent_dirs_and_return_path(file_path: '\n",
       "                                        'str):\\\\\\\\n    import os\\\\\\\\n    '\n",
       "                                        'os.makedirs(os.path.dirname(file_path), '\n",
       "                                        'exist_ok=True)\\\\\\\\n    return '\n",
       "                                        'file_path\\\\\\\\n\\\\\\\\ndef '\n",
       "                                        'load_data(\\\\\\\\n    data_url,\\\\\\\\n    '\n",
       "                                        'data_serving_path,\\\\\\\\n):\\\\\\\\n    '\n",
       "                                        'import wget\\\\\\\\n    import '\n",
       "                                        'joblib\\\\\\\\n\\\\\\\\n    # Download '\n",
       "                                        'sentences.txt to local\\\\\\\\n    '\n",
       "                                        'wget.download(data_url)\\\\\\\\n\\\\\\\\n    '\n",
       "                                        '# Load data file\\\\\\\\n    with '\n",
       "                                        'open(\\\\\\\\\\\\\"sentences.txt\\\\\\\\\\\\\", '\n",
       "                                        '\\\\\\\\\\\\\"r\\\\\\\\\\\\\") as f:\\\\\\\\n        '\n",
       "                                        'sentences = '\n",
       "                                        'f.readlines()\\\\\\\\n\\\\\\\\n    sentences '\n",
       "                                        '= [sentence.strip() for sentence in '\n",
       "                                        'sentences]\\\\\\\\n\\\\\\\\n    # Dump data '\n",
       "                                        'to pkl for downstream components to '\n",
       "                                        'use\\\\\\\\n    joblib.dump(sentences, '\n",
       "                                        'data_serving_path)\\\\\\\\n\\\\\\\\n    '\n",
       "                                        'print(sentences)\\\\\\\\n\\\\\\\\nimport '\n",
       "                                        'argparse\\\\\\\\n_parser = '\n",
       "                                        \"argparse.ArgumentParser(prog='Load \"\n",
       "                                        \"data', \"\n",
       "                                        'description=\\'\\')\\\\\\\\n_parser.add_argument(\\\\\\\\\\\\\"--data-url\\\\\\\\\\\\\", '\n",
       "                                        'dest=\\\\\\\\\\\\\"data_url\\\\\\\\\\\\\", '\n",
       "                                        'type=str, required=True, '\n",
       "                                        'default=argparse.SUPPRESS)\\\\\\\\n_parser.add_argument(\\\\\\\\\\\\\"--data-serving\\\\\\\\\\\\\", '\n",
       "                                        'dest=\\\\\\\\\\\\\"data_serving_path\\\\\\\\\\\\\", '\n",
       "                                        'type=_make_parent_dirs_and_return_path, '\n",
       "                                        'required=True, '\n",
       "                                        'default=argparse.SUPPRESS)\\\\\\\\n_parsed_args '\n",
       "                                        '= '\n",
       "                                        'vars(_parser.parse_args())\\\\\\\\n\\\\\\\\n_outputs '\n",
       "                                        '= load_data(**_parsed_args)\\\\\\\\n\\\\\"], '\n",
       "                                        '\\\\\"image\\\\\": \\\\\"python:3.7\\\\\"}}, '\n",
       "                                        '\\\\\"inputs\\\\\": [{\\\\\"name\\\\\": '\n",
       "                                        '\\\\\"data_url\\\\\", \\\\\"type\\\\\": '\n",
       "                                        '\\\\\"String\\\\\"}], \\\\\"name\\\\\": \\\\\"Load '\n",
       "                                        'data\\\\\", \\\\\"outputs\\\\\": [{\\\\\"name\\\\\": '\n",
       "                                        '\\\\\"data_serving\\\\\", \\\\\"type\\\\\": '\n",
       "                                        '\\\\\"PKL\\\\\"}]}\"},\"labels\":{\"pipelines.kubeflow.org/enable_caching\":\"true\",\"pipelines.kubeflow.org/kfp_sdk_version\":\"1.8.3\",\"pipelines.kubeflow.org/pipeline-sdk-type\":\"kfp\"}},\"container\":{\"name\":\"\",\"image\":\"python:3.7\",\"command\":[\"sh\",\"-c\",\"(PIP_DISABLE_PIP_VERSION_CHECK=1 '\n",
       "                                        'python3 -m pip install --quiet '\n",
       "                                        '--no-warn-script-location '\n",
       "                                        \"'joblib==1.1.0' 'wget==3.2' || \"\n",
       "                                        'PIP_DISABLE_PIP_VERSION_CHECK=1 '\n",
       "                                        'python3 -m pip install --quiet '\n",
       "                                        '--no-warn-script-location '\n",
       "                                        \"'joblib==1.1.0' 'wget==3.2' --user) \"\n",
       "                                        '\\\\u0026\\\\u0026 \\\\\"$0\\\\\" '\n",
       "                                        '\\\\\"$@\\\\\"\",\"sh\",\"-ec\",\"program_path=$(mktemp)\\\\nprintf '\n",
       "                                        '\\\\\"%s\\\\\" \\\\\"$0\\\\\" \\\\u003e '\n",
       "                                        '\\\\\"$program_path\\\\\"\\\\npython3 -u '\n",
       "                                        '\\\\\"$program_path\\\\\" \\\\\"$@\\\\\"\\\\n\",\"def '\n",
       "                                        '_make_parent_dirs_and_return_path(file_path: '\n",
       "                                        'str):\\\\n    import os\\\\n    '\n",
       "                                        'os.makedirs(os.path.dirname(file_path), '\n",
       "                                        'exist_ok=True)\\\\n    return '\n",
       "                                        'file_path\\\\n\\\\ndef load_data(\\\\n    '\n",
       "                                        'data_url,\\\\n    '\n",
       "                                        'data_serving_path,\\\\n):\\\\n    import '\n",
       "                                        'wget\\\\n    import joblib\\\\n\\\\n    # '\n",
       "                                        'Download sentences.txt to local\\\\n    '\n",
       "                                        'wget.download(data_url)\\\\n\\\\n    # '\n",
       "                                        'Load data file\\\\n    with '\n",
       "                                        'open(\\\\\"sentences.txt\\\\\", \\\\\"r\\\\\") as '\n",
       "                                        'f:\\\\n        sentences = '\n",
       "                                        'f.readlines()\\\\n\\\\n    sentences = '\n",
       "                                        '[sentence.strip() for sentence in '\n",
       "                                        'sentences]\\\\n\\\\n    # Dump data to '\n",
       "                                        'pkl for downstream components to '\n",
       "                                        'use\\\\n    joblib.dump(sentences, '\n",
       "                                        'data_serving_path)\\\\n\\\\n    '\n",
       "                                        'print(sentences)\\\\n\\\\nimport '\n",
       "                                        'argparse\\\\n_parser = '\n",
       "                                        \"argparse.ArgumentParser(prog='Load \"\n",
       "                                        \"data', \"\n",
       "                                        'description=\\'\\')\\\\n_parser.add_argument(\\\\\"--data-url\\\\\", '\n",
       "                                        'dest=\\\\\"data_url\\\\\", type=str, '\n",
       "                                        'required=True, '\n",
       "                                        'default=argparse.SUPPRESS)\\\\n_parser.add_argument(\\\\\"--data-serving\\\\\", '\n",
       "                                        'dest=\\\\\"data_serving_path\\\\\", '\n",
       "                                        'type=_make_parent_dirs_and_return_path, '\n",
       "                                        'required=True, '\n",
       "                                        'default=argparse.SUPPRESS)\\\\n_parsed_args '\n",
       "                                        '= '\n",
       "                                        'vars(_parser.parse_args())\\\\n\\\\n_outputs '\n",
       "                                        '= '\n",
       "                                        'load_data(**_parsed_args)\\\\n\"],\"args\":[\"--data-url\",\"{{inputs.parameters.data_url}}\",\"--data-serving\",\"/tmp/outputs/data_serving/data\"],\"resources\":{}}},{\"name\":\"serving\",\"arguments\":{},\"inputs\":{\"artifacts\":[{\"name\":\"load-data-data_serving\",\"path\":\"/tmp/inputs/data_serving/data\"}]},\"outputs\":{},\"metadata\":{\"annotations\":{\"pipelines.kubeflow.org/component_ref\":\"{}\",\"pipelines.kubeflow.org/component_spec\":\"{\\\\\"implementation\\\\\": '\n",
       "                                        '{\\\\\"container\\\\\": {\\\\\"args\\\\\": '\n",
       "                                        '[\\\\\"--data-serving\\\\\", '\n",
       "                                        '{\\\\\"inputPath\\\\\": '\n",
       "                                        '\\\\\"data_serving\\\\\"}], \\\\\"command\\\\\": '\n",
       "                                        '[\\\\\"sh\\\\\", \\\\\"-c\\\\\", '\n",
       "                                        '\\\\\"(PIP_DISABLE_PIP_VERSION_CHECK=1 '\n",
       "                                        'python3 -m pip install --quiet '\n",
       "                                        '--no-warn-script-location '\n",
       "                                        \"'joblib==1.1.0' 'requests==2.31.0' || \"\n",
       "                                        'PIP_DISABLE_PIP_VERSION_CHECK=1 '\n",
       "                                        'python3 -m pip install --quiet '\n",
       "                                        '--no-warn-script-location '\n",
       "                                        \"'joblib==1.1.0' 'requests==2.31.0' \"\n",
       "                                        '--user) \\\\u0026\\\\u0026 '\n",
       "                                        '\\\\\\\\\\\\\"$0\\\\\\\\\\\\\" \\\\\\\\\\\\\"$@\\\\\\\\\\\\\"\\\\\", '\n",
       "                                        '\\\\\"sh\\\\\", \\\\\"-ec\\\\\", '\n",
       "                                        '\\\\\"program_path=$(mktemp)\\\\\\\\nprintf '\n",
       "                                        '\\\\\\\\\\\\\"%s\\\\\\\\\\\\\" \\\\\\\\\\\\\"$0\\\\\\\\\\\\\" '\n",
       "                                        '\\\\u003e '\n",
       "                                        '\\\\\\\\\\\\\"$program_path\\\\\\\\\\\\\"\\\\\\\\npython3 '\n",
       "                                        '-u \\\\\\\\\\\\\"$program_path\\\\\\\\\\\\\" '\n",
       "                                        '\\\\\\\\\\\\\"$@\\\\\\\\\\\\\"\\\\\\\\n\\\\\", \\\\\"def '\n",
       "                                        'serving(\\\\\\\\n    '\n",
       "                                        'data_serving_path,\\\\\\\\n):\\\\\\\\n    '\n",
       "                                        'import joblib\\\\\\\\n    import '\n",
       "                                        'requests\\\\\\\\n\\\\\\\\n    headers = '\n",
       "                                        '{\\\\\\\\n    \\\\\\\\\\\\\"Content-Type\\\\\\\\\\\\\": '\n",
       "                                        '\\\\\\\\\\\\\"application/json\\\\\\\\\\\\\"}\\\\\\\\n\\\\\\\\n    '\n",
       "                                        '# Define our data for '\n",
       "                                        'prediction\\\\\\\\n    sentences = '\n",
       "                                        'joblib.load(data_serving_path)\\\\\\\\n    '\n",
       "                                        'for sentence in '\n",
       "                                        'sentences:\\\\\\\\n        json_data = '\n",
       "                                        '{\\\\\\\\\\\\\"Text\\\\\\\\\\\\\": '\n",
       "                                        'sentences[0]}\\\\\\\\n        response = '\n",
       "                                        \"requests.post('http://tts.kserve-deployment.34.170.87.225.sslip.io/predict', \"\n",
       "                                        'json=json_data)\\\\\\\\n        status = '\n",
       "                                        \"requests.post('https://f189-27-77-246-74.ngrok-free.app/process', \"\n",
       "                                        'json=response.json(), '\n",
       "                                        'headers=headers)\\\\\\\\n        '\n",
       "                                        'print(status)\\\\\\\\n\\\\\\\\nimport '\n",
       "                                        'argparse\\\\\\\\n_parser = '\n",
       "                                        \"argparse.ArgumentParser(prog='Serving', \"\n",
       "                                        'description=\\'\\')\\\\\\\\n_parser.add_argument(\\\\\\\\\\\\\"--data-serving\\\\\\\\\\\\\", '\n",
       "                                        'dest=\\\\\\\\\\\\\"data_serving_path\\\\\\\\\\\\\", '\n",
       "                                        'type=str, required=True, '\n",
       "                                        'default=argparse.SUPPRESS)\\\\\\\\n_parsed_args '\n",
       "                                        '= '\n",
       "                                        'vars(_parser.parse_args())\\\\\\\\n\\\\\\\\n_outputs '\n",
       "                                        '= serving(**_parsed_args)\\\\\\\\n\\\\\"], '\n",
       "                                        '\\\\\"image\\\\\": \\\\\"python:3.7\\\\\"}}, '\n",
       "                                        '\\\\\"inputs\\\\\": [{\\\\\"name\\\\\": '\n",
       "                                        '\\\\\"data_serving\\\\\", \\\\\"type\\\\\": '\n",
       "                                        '\\\\\"PKL\\\\\"}], \\\\\"name\\\\\": '\n",
       "                                        '\\\\\"Serving\\\\\"}\"},\"labels\":{\"pipelines.kubeflow.org/enable_caching\":\"true\",\"pipelines.kubeflow.org/kfp_sdk_version\":\"1.8.3\",\"pipelines.kubeflow.org/pipeline-sdk-type\":\"kfp\"}},\"container\":{\"name\":\"\",\"image\":\"python:3.7\",\"command\":[\"sh\",\"-c\",\"(PIP_DISABLE_PIP_VERSION_CHECK=1 '\n",
       "                                        'python3 -m pip install --quiet '\n",
       "                                        '--no-warn-script-location '\n",
       "                                        \"'joblib==1.1.0' 'requests==2.31.0' || \"\n",
       "                                        'PIP_DISABLE_PIP_VERSION_CHECK=1 '\n",
       "                                        'python3 -m pip install --quiet '\n",
       "                                        '--no-warn-script-location '\n",
       "                                        \"'joblib==1.1.0' 'requests==2.31.0' \"\n",
       "                                        '--user) \\\\u0026\\\\u0026 \\\\\"$0\\\\\" '\n",
       "                                        '\\\\\"$@\\\\\"\",\"sh\",\"-ec\",\"program_path=$(mktemp)\\\\nprintf '\n",
       "                                        '\\\\\"%s\\\\\" \\\\\"$0\\\\\" \\\\u003e '\n",
       "                                        '\\\\\"$program_path\\\\\"\\\\npython3 -u '\n",
       "                                        '\\\\\"$program_path\\\\\" \\\\\"$@\\\\\"\\\\n\",\"def '\n",
       "                                        'serving(\\\\n    '\n",
       "                                        'data_serving_path,\\\\n):\\\\n    import '\n",
       "                                        'joblib\\\\n    import requests\\\\n\\\\n    '\n",
       "                                        'headers = {\\\\n    \\\\\"Content-Type\\\\\": '\n",
       "                                        '\\\\\"application/json\\\\\"}\\\\n\\\\n    # '\n",
       "                                        'Define our data for prediction\\\\n    '\n",
       "                                        'sentences = '\n",
       "                                        'joblib.load(data_serving_path)\\\\n    '\n",
       "                                        'for sentence in sentences:\\\\n        '\n",
       "                                        'json_data = {\\\\\"Text\\\\\": '\n",
       "                                        'sentences[0]}\\\\n        response = '\n",
       "                                        \"requests.post('http://tts.kserve-deployment.34.170.87.225.sslip.io/predict', \"\n",
       "                                        'json=json_data)\\\\n        status = '\n",
       "                                        \"requests.post('https://f189-27-77-246-74.ngrok-free.app/process', \"\n",
       "                                        'json=response.json(), '\n",
       "                                        'headers=headers)\\\\n        '\n",
       "                                        'print(status)\\\\n\\\\nimport '\n",
       "                                        'argparse\\\\n_parser = '\n",
       "                                        \"argparse.ArgumentParser(prog='Serving', \"\n",
       "                                        'description=\\'\\')\\\\n_parser.add_argument(\\\\\"--data-serving\\\\\", '\n",
       "                                        'dest=\\\\\"data_serving_path\\\\\", '\n",
       "                                        'type=str, required=True, '\n",
       "                                        'default=argparse.SUPPRESS)\\\\n_parsed_args '\n",
       "                                        '= '\n",
       "                                        'vars(_parser.parse_args())\\\\n\\\\n_outputs '\n",
       "                                        '= '\n",
       "                                        'serving(**_parsed_args)\\\\n\"],\"args\":[\"--data-serving\",\"/tmp/inputs/data_serving/data\"],\"resources\":{}}},{\"name\":\"text-to-speech-serving\",\"arguments\":{},\"inputs\":{\"parameters\":[{\"name\":\"data_url\"}]},\"outputs\":{},\"metadata\":{},\"dag\":{\"tasks\":[{\"name\":\"load-data\",\"template\":\"load-data\",\"arguments\":{\"parameters\":[{\"name\":\"data_url\",\"value\":\"{{inputs.parameters.data_url}}\"}]}},{\"name\":\"serving\",\"template\":\"serving\",\"arguments\":{\"artifacts\":[{\"name\":\"load-data-data_serving\",\"from\":\"{{tasks.load-data.outputs.artifacts.load-data-data_serving}}\"}]},\"dependencies\":[\"load-data\"]}]}}],\"entrypoint\":\"text-to-speech-serving\",\"arguments\":{\"parameters\":[{\"name\":\"data_url\"}]},\"serviceAccountName\":\"pipeline-runner\"},\"status\":{\"startedAt\":null,\"finishedAt\":null}}'},\n",
       " 'resource_references': [{'key': {'id': '9b9b493c-8727-418a-9df7-5d4d60f46870',\n",
       "                                  'type': 'EXPERIMENT'},\n",
       "                          'name': 'tts-serving',\n",
       "                          'relationship': 'OWNER'},\n",
       "                         {'key': {'id': '2d97628b-6d86-436d-b341-bc5b4b1d5e74',\n",
       "                                  'type': 'PIPELINE_VERSION'},\n",
       "                          'name': 'tts_serving_pipeline 0.0.1',\n",
       "                          'relationship': 'CREATOR'}],\n",
       " 'scheduled_at': datetime.datetime(1970, 1, 1, 0, 0, tzinfo=tzutc()),\n",
       " 'service_account': 'pipeline-runner',\n",
       " 'status': None,\n",
       " 'storage_state': None}"
      ]
     },
     "execution_count": 220,
     "metadata": {},
     "output_type": "execute_result"
    }
   ],
   "source": [
    "from datetime import datetime\n",
    "\n",
    "# Run from the compiled pipeline\n",
    "now = datetime.now().strftime(\"%Y%m%d%H%M%S\")  # Get the current time to version the job\n",
    "\n",
    "# Read the docs here for all possible args\n",
    "# https://github.com/kubeflow/pipelines/blob/1.8.0/sdk/python/kfp/_client.py\n",
    "client.run_pipeline(\n",
    "    experiment_id=experiment.id,\n",
    "    job_name=f\"{PIPELINE_NAME}-{PIPELINE_VERSION}-{now}\",\n",
    "    version_id=pipeline.id,\n",
    "    params={\n",
    "        \"data_url\": \"https://raw.githubusercontent.com/dunghoang369/test/main/sentences.txt\"\n",
    "    },\n",
    ")"
   ]
  },
  {
   "cell_type": "markdown",
   "id": "07ff1001-ef42-480f-8426-e3b3e1f1201c",
   "metadata": {},
   "source": [
    "# Create a recurring run"
   ]
  },
  {
   "cell_type": "code",
   "execution_count": null,
   "id": "3ee0e943-96fa-4b8e-884e-8fa76ac153a6",
   "metadata": {},
   "outputs": [],
   "source": [
    "# Dont forget to disable recurring run in case you don't need anymore\n",
    "client.create_recurring_run(\n",
    "    experiment_id=experiment.id,\n",
    "    job_name=f\"{PIPELINE_NAME}-{PIPELINE_VERSION}-{now}\",\n",
    "    cron_expression=\"0 0 * * * *\",  # hourly\n",
    "    version_id=pipeline.id,\n",
    "    params={\n",
    "        \"url\": \"https://raw.githubusercontent.com/quan-dang/kubeflow-tutorials/master/data/housing.csv\"\n",
    "    },\n",
    ")"
   ]
  }
 ],
 "metadata": {
  "kernelspec": {
   "display_name": "Python 3 (ipykernel)",
   "language": "python",
   "name": "python3"
  },
  "language_info": {
   "codemirror_mode": {
    "name": "ipython",
    "version": 3
   },
   "file_extension": ".py",
   "mimetype": "text/x-python",
   "name": "python",
   "nbconvert_exporter": "python",
   "pygments_lexer": "ipython3",
   "version": "3.9.12"
  }
 },
 "nbformat": 4,
 "nbformat_minor": 5
}
