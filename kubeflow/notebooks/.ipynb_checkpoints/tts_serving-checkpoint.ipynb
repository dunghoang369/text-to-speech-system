{
 "cells": [
  {
   "cell_type": "code",
   "execution_count": 62,
   "id": "52c40293-e89b-4c64-958b-5333b2b51a75",
   "metadata": {},
   "outputs": [],
   "source": [
    "import kfp\n",
    "from kfp import dsl\n",
    "from kfp.components import (\n",
    "    InputPath,\n",
    "    InputTextFile,\n",
    "    OutputPath,\n",
    "    OutputTextFile,\n",
    "    func_to_container_op,\n",
    ")\n",
    "\n",
    "import pandas as pd\n",
    "from typing import NamedTuple\n",
    "\n",
    "import sys\n",
    "\n",
    "sys.path.insert(0, \"..\")\n",
    "from constants import NAMESPACE, HOST\n",
    "from utils import get_session_cookie, get_or_create_experiment, get_or_create_pipeline"
   ]
  },
  {
   "cell_type": "code",
   "execution_count": 63,
   "id": "8c9a8376-9414-47d5-ad55-8fbc36af88da",
   "metadata": {},
   "outputs": [],
   "source": [
    "# Where all the runs belong to the pipeline reside in\n",
    "EXPERIMENT_NAME = \"tts-serving\""
   ]
  },
  {
   "cell_type": "markdown",
   "id": "d3e723de-8cb4-4ee2-9141-1bd707923694",
   "metadata": {},
   "source": [
    "# Define pipeline components"
   ]
  },
  {
   "cell_type": "code",
   "execution_count": 64,
   "id": "998ea0af-811b-46c4-aa68-0a53d2fcfff0",
   "metadata": {},
   "outputs": [],
   "source": [
    "# The first component to download data, train-test split\n",
    "# and then dump all the data for downstream components to use\n",
    "def load_data(\n",
    "    data_url: str,\n",
    "    data_serving_path: OutputPath(\"PKL\"),\n",
    "):\n",
    "    import wget\n",
    "    import joblib\n",
    "    \n",
    "    # Download sentences.txt to local\n",
    "    wget.download(data_url)\n",
    "\n",
    "    # Load data file\n",
    "    with open(\"sentences.txt\", \"r\") as f:\n",
    "        sentences = f.readlines()\n",
    "    \n",
    "    sentences = [sentence.strip() for sentence in sentences]\n",
    "\n",
    "    # Dump data to pkl for downstream components to use\n",
    "    joblib.dump(sentences, data_serving_path)\n",
    "    \n",
    "    print(sentences)\n",
    "# Instead of using create_component_from_func,\n",
    "# you can use this instead\n",
    "load_data_op = func_to_container_op(\n",
    "    func=load_data,\n",
    "    packages_to_install=[\n",
    "        \"joblib==1.1.0\",\n",
    "        \"wget==3.2\"\n",
    "    ],\n",
    ")"
   ]
  },
  {
   "cell_type": "code",
   "execution_count": 66,
   "id": "d8ad3537-2f61-4fd0-ac82-10591e2505f8",
   "metadata": {},
   "outputs": [],
   "source": [
    "def kserve_client():\n",
    "    # Define our data for prediction\n",
    "    json_data = {\"Text\": \"Hello World\"}\n",
    "    \n",
    "    response = requests.post('http://tts.kserve-deployment.34.170.87.225.sslip.io/predict', json=json_data)\n",
    "    audio = response.json()[\"result\"]\n",
    "    audio = np.array(audio)\n",
    "    write(f\"test_api_kserve.wav\", 22050, audio)"
   ]
  },
  {
   "cell_type": "code",
   "execution_count": 65,
   "id": "3dfd449a-d02e-445a-beaa-68d2974fded7",
   "metadata": {},
   "outputs": [],
   "source": [
    "def seldon_client():\n",
    "    # Define our data for prediction\n",
    "    json_data = {\"data\": {\"Text\": \"Hello World\"}}\n",
    "    \n",
    "    response = requests.post('http://localhost:8000/seldon/seldon/seldon-model-logging/api/v1.0/predictions', json=json_data, headers=headers)\n",
    "    audio = response.json()[\"result\"]\n",
    "    audio = np.array(audio)\n",
    "    write(f\"test_api_seldon.wav\", 22050, audio)\n"
   ]
  },
  {
   "cell_type": "markdown",
   "id": "c80f9b78-d1b5-4f24-a121-886aae6c7c00",
   "metadata": {},
   "source": [
    "# Define some pipelines"
   ]
  },
  {
   "cell_type": "code",
   "execution_count": 67,
   "id": "34d5eafe-739f-4eb5-b91a-5ae7760de2dc",
   "metadata": {},
   "outputs": [],
   "source": [
    "@dsl.pipeline(\n",
    "    name=\"text to speech serving\", description=\"send requests to tts models and get response audio.\"\n",
    ")\n",
    "def tts_serving_pipeline(data_url):\n",
    "    # A sample pipeline showing how to pass data (small) between components.\n",
    "    load_data_task = load_data_op(data_url=data_url)"
   ]
  },
  {
   "cell_type": "markdown",
   "id": "e5429a52-7106-442b-9d1c-f46f44f36dec",
   "metadata": {},
   "source": [
    "# Run the pipelines"
   ]
  },
  {
   "cell_type": "code",
   "execution_count": 68,
   "id": "a4b547e1-d3e7-4455-bcae-b80be45bb9af",
   "metadata": {},
   "outputs": [],
   "source": [
    "# Get the token to authenticate to the `ml-pipeline` service\n",
    "session_cookie = get_session_cookie()\n",
    "\n",
    "# Initialize the client\n",
    "client = kfp.Client(\n",
    "    host=f\"{HOST}/pipeline\",\n",
    "    cookies=f\"authservice_session={session_cookie}\",\n",
    "    namespace=NAMESPACE,\n",
    ")"
   ]
  },
  {
   "cell_type": "code",
   "execution_count": 69,
   "id": "115dcb6f-614a-49c0-b524-7bb5af89b038",
   "metadata": {},
   "outputs": [
    {
     "data": {
      "text/html": [
       "<a href=\"http://10.10.10.10:8080/pipeline/#/experiments/details/9b9b493c-8727-418a-9df7-5d4d60f46870\" target=\"_blank\" >Experiment details</a>."
      ],
      "text/plain": [
       "<IPython.core.display.HTML object>"
      ]
     },
     "metadata": {},
     "output_type": "display_data"
    },
    {
     "data": {
      "text/html": [
       "<a href=\"http://10.10.10.10:8080/pipeline/#/runs/details/8d09bc4a-4e2e-46d1-8766-27fa04a06d8a\" target=\"_blank\" >Run details</a>."
      ],
      "text/plain": [
       "<IPython.core.display.HTML object>"
      ]
     },
     "metadata": {},
     "output_type": "display_data"
    },
    {
     "data": {
      "text/plain": [
       "RunPipelineResult(run_id=8d09bc4a-4e2e-46d1-8766-27fa04a06d8a)"
      ]
     },
     "execution_count": 69,
     "metadata": {},
     "output_type": "execute_result"
    }
   ],
   "source": [
    "client.create_run_from_pipeline_func(\n",
    "    tts_serving_pipeline,\n",
    "    arguments={\n",
    "        \"data_url\": \"https://raw.githubusercontent.com/dunghoang369/test/main/sentences.txt\"\n",
    "    },\n",
    "    experiment_name=EXPERIMENT_NAME,\n",
    "    namespace=NAMESPACE,\n",
    ")"
   ]
  },
  {
   "cell_type": "code",
   "execution_count": 70,
   "id": "7c8bfd06-09ba-4d30-9565-7fb1b0e68e6b",
   "metadata": {},
   "outputs": [
    {
     "name": "stdout",
     "output_type": "stream",
     "text": [
      "/home/dunghoang300699/Downloads/mlops/module3/tts/kubeflow/notebooks\n"
     ]
    }
   ],
   "source": [
    "!pwd"
   ]
  },
  {
   "cell_type": "code",
   "execution_count": null,
   "id": "8c3d19fc-760e-4017-8821-083446cca372",
   "metadata": {},
   "outputs": [],
   "source": []
  }
 ],
 "metadata": {
  "kernelspec": {
   "display_name": "Python 3 (ipykernel)",
   "language": "python",
   "name": "python3"
  },
  "language_info": {
   "codemirror_mode": {
    "name": "ipython",
    "version": 3
   },
   "file_extension": ".py",
   "mimetype": "text/x-python",
   "name": "python",
   "nbconvert_exporter": "python",
   "pygments_lexer": "ipython3",
   "version": "3.9.12"
  }
 },
 "nbformat": 4,
 "nbformat_minor": 5
}
